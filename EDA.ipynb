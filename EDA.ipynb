{
 "cells": [
  {
   "cell_type": "markdown",
   "id": "54c86887",
   "metadata": {},
   "source": [
    "# **1** Anonimizar archivo"
   ]
  },
  {
   "cell_type": "markdown",
   "id": "2f76f725",
   "metadata": {},
   "source": [
    "las siguientes celdas van a estar comentadas para que pueda 'ejecutar todo', sin tener que preocuparse de esto, pero no las borro por si tengo que corregir mas adelante o por si se utilizan para otro archivo (de texto exportado de un grupo de WhatsApp)"
   ]
  },
  {
   "cell_type": "code",
   "execution_count": null,
   "id": "7b0b954e",
   "metadata": {},
   "outputs": [
    {
     "name": "stdout",
     "output_type": "stream",
     "text": []
    }
   ],
   "source": [
    "#%pip install Faker"
   ]
  },
  {
   "cell_type": "code",
   "execution_count": null,
   "id": "af109e56",
   "metadata": {},
   "outputs": [
    {
     "data": {
      "text/plain": []
     },
     "execution_count": 42,
     "metadata": {},
     "output_type": "execute_result"
    }
   ],
   "source": [
    "\"\"\" import re\n",
    "names = set()\n",
    "input_file = \"data/WhatsApp chat.txt\"\n",
    "output_file = \"data/AnonymChat.txt\"\n",
    "with open(input_file,encoding='utf-8') as f:\n",
    "    #print(f.read())\n",
    "    #for i in range(10):\n",
    "    for i in f:\n",
    "        text=i\n",
    "        match = re.search(r\"\\d{2}/\\d{2}/\\d{2}, \\d{2}:\\d{2} - (.*?):\", text)\n",
    "        #print(text)\n",
    "        if match:\n",
    "            name = match.group(1)\n",
    "            names.add(name)\n",
    "names \"\"\""
   ]
  },
  {
   "cell_type": "code",
   "execution_count": null,
   "id": "d29d12ac",
   "metadata": {},
   "outputs": [
    {
     "data": {
      "text/plain": []
     },
     "execution_count": 43,
     "metadata": {},
     "output_type": "execute_result"
    }
   ],
   "source": [
    "\"\"\" from faker import Faker\n",
    "fake = Faker('ja_JP') #para generar nombres aleatorios (falsos) en japones (katanaka)\n",
    "anonym_map = {}\n",
    "for nombre in names:\n",
    "    anonym_map[nombre]=fake.kana_name()\n",
    "\n",
    "anonym_map \"\"\""
   ]
  },
  {
   "cell_type": "code",
   "execution_count": null,
   "id": "d449d3e5",
   "metadata": {},
   "outputs": [],
   "source": [
    "\"\"\" with open(input_file, 'r', encoding='utf-8') as infile, \\\n",
    "         open(output_file, 'w', encoding='utf-8') as outfile:\n",
    "        \n",
    "        for line in infile:\n",
    "            if (not re.search(r\":.*@[\\S]+\", line)) and re.search(r\"\\d{2}/\\d{2}/\\d{2}, \\d{2}:\\d{2} - (.*?):\", line): #para quitar las menciones \"@fulanito\" y las lineas sueltas (que son mas dificiles de verificar, en mi caso particular)\n",
    "                for real_name, anon_name in anonym_map.items():\n",
    "                    line = line.replace(real_name, anon_name)\n",
    "                outfile.write(line) \"\"\""
   ]
  },
  {
   "cell_type": "markdown",
   "id": "3d462347",
   "metadata": {},
   "source": [
    "# **2** Ingesta y limpieza de datos"
   ]
  },
  {
   "cell_type": "code",
   "execution_count": 36,
   "id": "9230e2c9",
   "metadata": {},
   "outputs": [
    {
     "name": "stderr",
     "output_type": "stream",
     "text": [
      "C:\\Users\\DELL\\AppData\\Local\\Temp\\ipykernel_18932\\831975826.py:26: UserWarning: Could not infer format, so each element will be parsed individually, falling back to `dateutil`. To ensure parsing is consistent and as-expected, please specify a format.\n",
      "  df['fecha']=pd.to_datetime(df['fecha'])\n"
     ]
    },
    {
     "data": {
      "text/html": [
       "<div>\n",
       "<style scoped>\n",
       "    .dataframe tbody tr th:only-of-type {\n",
       "        vertical-align: middle;\n",
       "    }\n",
       "\n",
       "    .dataframe tbody tr th {\n",
       "        vertical-align: top;\n",
       "    }\n",
       "\n",
       "    .dataframe thead th {\n",
       "        text-align: right;\n",
       "    }\n",
       "</style>\n",
       "<table border=\"1\" class=\"dataframe\">\n",
       "  <thead>\n",
       "    <tr style=\"text-align: right;\">\n",
       "      <th></th>\n",
       "      <th>fecha</th>\n",
       "      <th>usuario</th>\n",
       "      <th>mensaje</th>\n",
       "      <th>isMedia</th>\n",
       "    </tr>\n",
       "  </thead>\n",
       "  <tbody>\n",
       "    <tr>\n",
       "      <th>0</th>\n",
       "      <td>2023-05-23 22:26:00</td>\n",
       "      <td>ヤマザキ アキラ</td>\n",
       "      <td>None</td>\n",
       "      <td>True</td>\n",
       "    </tr>\n",
       "    <tr>\n",
       "      <th>1</th>\n",
       "      <td>2023-05-23 22:26:00</td>\n",
       "      <td>ヤマザキ アキラ</td>\n",
       "      <td>None</td>\n",
       "      <td>True</td>\n",
       "    </tr>\n",
       "    <tr>\n",
       "      <th>2</th>\n",
       "      <td>2023-05-23 22:40:00</td>\n",
       "      <td>ナカジマ ヨウコ</td>\n",
       "      <td>Jajaja</td>\n",
       "      <td>False</td>\n",
       "    </tr>\n",
       "    <tr>\n",
       "      <th>3</th>\n",
       "      <td>2023-05-23 22:40:00</td>\n",
       "      <td>タナカ アケミ</td>\n",
       "      <td>Libros que pueden gustarles a los 3 nuevos</td>\n",
       "      <td>False</td>\n",
       "    </tr>\n",
       "    <tr>\n",
       "      <th>4</th>\n",
       "      <td>2023-05-23 22:41:00</td>\n",
       "      <td>ナカジマ ヨウコ</td>\n",
       "      <td>Los extrañé</td>\n",
       "      <td>False</td>\n",
       "    </tr>\n",
       "  </tbody>\n",
       "</table>\n",
       "</div>"
      ],
      "text/plain": [
       "                fecha   usuario                                     mensaje  \\\n",
       "0 2023-05-23 22:26:00  ヤマザキ アキラ                                        None   \n",
       "1 2023-05-23 22:26:00  ヤマザキ アキラ                                        None   \n",
       "2 2023-05-23 22:40:00  ナカジマ ヨウコ                                      Jajaja   \n",
       "3 2023-05-23 22:40:00   タナカ アケミ  Libros que pueden gustarles a los 3 nuevos   \n",
       "4 2023-05-23 22:41:00  ナカジマ ヨウコ                                 Los extrañé   \n",
       "\n",
       "   isMedia  \n",
       "0     True  \n",
       "1     True  \n",
       "2    False  \n",
       "3    False  \n",
       "4    False  "
      ]
     },
     "execution_count": 36,
     "metadata": {},
     "output_type": "execute_result"
    }
   ],
   "source": [
    "import re\n",
    "import pandas as pd\n",
    "output_file = \"data/AnonymChat.txt\"\n",
    "fechas = []\n",
    "usuarios = []\n",
    "mensajes = []\n",
    "media = []\n",
    "with open(output_file,encoding='utf-8') as f:\n",
    "    #print(f.read())\n",
    "    \"\"\" for i in range(10):\n",
    "        print(f.readline().split(\" - \")[0])\n",
    "        print(f.readline().split(\" - \")[1].split(\":\")[0])\n",
    "        print(f.readline().split(\" - \")[1].split(\":\")[1].strip() )\n",
    "        print(f.readline().split(\" - \")[1].split(\":\")[1].strip() ==\"<Media omitted>\") \"\"\"\n",
    "    for i in f:\n",
    "        if ' - ' in i:\n",
    "            fechas.append(i.split(\" - \")[0])\n",
    "            usuarios.append(i.split(\" - \")[1].split(\":\")[0])\n",
    "            if i.split(\" - \")[1].split(\":\")[1].strip() ==\"<Media omitted>\":\n",
    "                mensajes.append(None)\n",
    "                media.append(True)\n",
    "            else:\n",
    "                mensajes.append(i.split(\" - \")[1].split(\":\")[1].strip())\n",
    "                media.append(False)\n",
    "df = pd.DataFrame(data={'fecha':fechas,'usuario':usuarios,'mensaje':mensajes,'isMedia':media})\n",
    "df['fecha']=pd.to_datetime(df['fecha'])\n",
    "df.head()"
   ]
  },
  {
   "cell_type": "code",
   "execution_count": 37,
   "id": "1f6f258b",
   "metadata": {},
   "outputs": [
    {
     "data": {
      "text/html": [
       "<div>\n",
       "<style scoped>\n",
       "    .dataframe tbody tr th:only-of-type {\n",
       "        vertical-align: middle;\n",
       "    }\n",
       "\n",
       "    .dataframe tbody tr th {\n",
       "        vertical-align: top;\n",
       "    }\n",
       "\n",
       "    .dataframe thead th {\n",
       "        text-align: right;\n",
       "    }\n",
       "</style>\n",
       "<table border=\"1\" class=\"dataframe\">\n",
       "  <thead>\n",
       "    <tr style=\"text-align: right;\">\n",
       "      <th></th>\n",
       "      <th>fecha</th>\n",
       "      <th>usuario</th>\n",
       "      <th>mensaje</th>\n",
       "      <th>isMedia</th>\n",
       "      <th>palabras</th>\n",
       "    </tr>\n",
       "  </thead>\n",
       "  <tbody>\n",
       "    <tr>\n",
       "      <th>0</th>\n",
       "      <td>2023-05-23 22:26:00</td>\n",
       "      <td>ヤマザキ アキラ</td>\n",
       "      <td>None</td>\n",
       "      <td>True</td>\n",
       "      <td>NaN</td>\n",
       "    </tr>\n",
       "    <tr>\n",
       "      <th>1</th>\n",
       "      <td>2023-05-23 22:26:00</td>\n",
       "      <td>ヤマザキ アキラ</td>\n",
       "      <td>None</td>\n",
       "      <td>True</td>\n",
       "      <td>NaN</td>\n",
       "    </tr>\n",
       "    <tr>\n",
       "      <th>2</th>\n",
       "      <td>2023-05-23 22:40:00</td>\n",
       "      <td>ナカジマ ヨウコ</td>\n",
       "      <td>Jajaja</td>\n",
       "      <td>False</td>\n",
       "      <td>1.0</td>\n",
       "    </tr>\n",
       "    <tr>\n",
       "      <th>3</th>\n",
       "      <td>2023-05-23 22:40:00</td>\n",
       "      <td>タナカ アケミ</td>\n",
       "      <td>Libros que pueden gustarles a los 3 nuevos</td>\n",
       "      <td>False</td>\n",
       "      <td>8.0</td>\n",
       "    </tr>\n",
       "    <tr>\n",
       "      <th>4</th>\n",
       "      <td>2023-05-23 22:41:00</td>\n",
       "      <td>ナカジマ ヨウコ</td>\n",
       "      <td>Los extrañé</td>\n",
       "      <td>False</td>\n",
       "      <td>2.0</td>\n",
       "    </tr>\n",
       "  </tbody>\n",
       "</table>\n",
       "</div>"
      ],
      "text/plain": [
       "                fecha   usuario                                     mensaje  \\\n",
       "0 2023-05-23 22:26:00  ヤマザキ アキラ                                        None   \n",
       "1 2023-05-23 22:26:00  ヤマザキ アキラ                                        None   \n",
       "2 2023-05-23 22:40:00  ナカジマ ヨウコ                                      Jajaja   \n",
       "3 2023-05-23 22:40:00   タナカ アケミ  Libros que pueden gustarles a los 3 nuevos   \n",
       "4 2023-05-23 22:41:00  ナカジマ ヨウコ                                 Los extrañé   \n",
       "\n",
       "   isMedia  palabras  \n",
       "0     True       NaN  \n",
       "1     True       NaN  \n",
       "2    False       1.0  \n",
       "3    False       8.0  \n",
       "4    False       2.0  "
      ]
     },
     "execution_count": 37,
     "metadata": {},
     "output_type": "execute_result"
    }
   ],
   "source": [
    "df['palabras'] = df['mensaje'].str.count(' ')+1\n",
    "df.head()"
   ]
  },
  {
   "cell_type": "code",
   "execution_count": 38,
   "id": "a03bc48f",
   "metadata": {},
   "outputs": [
    {
     "name": "stdout",
     "output_type": "stream",
     "text": [
      "<class 'pandas.core.frame.DataFrame'>\n",
      "RangeIndex: 11885 entries, 0 to 11884\n",
      "Data columns (total 5 columns):\n",
      " #   Column    Non-Null Count  Dtype         \n",
      "---  ------    --------------  -----         \n",
      " 0   fecha     11885 non-null  datetime64[ns]\n",
      " 1   usuario   11885 non-null  object        \n",
      " 2   mensaje   8376 non-null   object        \n",
      " 3   isMedia   11885 non-null  bool          \n",
      " 4   palabras  8376 non-null   float64       \n",
      "dtypes: bool(1), datetime64[ns](1), float64(1), object(2)\n",
      "memory usage: 383.1+ KB\n"
     ]
    }
   ],
   "source": [
    "df.info()"
   ]
  },
  {
   "cell_type": "markdown",
   "id": "9fee82c4",
   "metadata": {},
   "source": [
    "# **3** Análisis exploratorio de datos"
   ]
  },
  {
   "cell_type": "markdown",
   "id": "3dcbd8f8",
   "metadata": {},
   "source": [
    "# **4** Otros análisis"
   ]
  }
 ],
 "metadata": {
  "kernelspec": {
   "display_name": "Python 3",
   "language": "python",
   "name": "python3"
  },
  "language_info": {
   "codemirror_mode": {
    "name": "ipython",
    "version": 3
   },
   "file_extension": ".py",
   "mimetype": "text/x-python",
   "name": "python",
   "nbconvert_exporter": "python",
   "pygments_lexer": "ipython3",
   "version": "3.13.7"
  }
 },
 "nbformat": 4,
 "nbformat_minor": 5
}
