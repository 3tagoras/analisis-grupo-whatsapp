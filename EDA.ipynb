{
 "cells": [
  {
   "cell_type": "markdown",
   "id": "54c86887",
   "metadata": {},
   "source": [
    "# **1** Anonimizar archivo"
   ]
  },
  {
   "cell_type": "markdown",
   "id": "2f76f725",
   "metadata": {},
   "source": [
    "las siguientes celdas van a estar comentadas para que pueda 'ejecutar todo', sin tener que preocuparse de esto, pero no las borro por si tengo que corregir mas adelante o por si se utilizan para otro archivo (de texto exportado de un grupo de WhatsApp)"
   ]
  },
  {
   "cell_type": "code",
   "execution_count": null,
   "id": "7b0b954e",
   "metadata": {},
   "outputs": [
    {
     "name": "stdout",
     "output_type": "stream",
     "text": []
    }
   ],
   "source": [
    "#%pip install Faker"
   ]
  },
  {
   "cell_type": "code",
   "execution_count": null,
   "id": "af109e56",
   "metadata": {},
   "outputs": [
    {
     "data": {
      "text/plain": []
     },
     "execution_count": 42,
     "metadata": {},
     "output_type": "execute_result"
    }
   ],
   "source": [
    "\"\"\" import re\n",
    "names = set()\n",
    "input_file = \"data/WhatsApp chat.txt\"\n",
    "output_file = \"data/AnonymChat.txt\"\n",
    "with open(input_file,encoding='utf-8') as f:\n",
    "    #print(f.read())\n",
    "    #for i in range(10):\n",
    "    for i in f:\n",
    "        text=i\n",
    "        match = re.search(r\"\\d{2}/\\d{2}/\\d{2}, \\d{2}:\\d{2} - (.*?):\", text)\n",
    "        #print(text)\n",
    "        if match:\n",
    "            name = match.group(1)\n",
    "            names.add(name)\n",
    "names \"\"\""
   ]
  },
  {
   "cell_type": "code",
   "execution_count": null,
   "id": "d29d12ac",
   "metadata": {},
   "outputs": [
    {
     "data": {
      "text/plain": []
     },
     "execution_count": 43,
     "metadata": {},
     "output_type": "execute_result"
    }
   ],
   "source": [
    "\"\"\" from faker import Faker\n",
    "fake = Faker('ja_JP') #para generar nombres aleatorios (falsos) en japones (katanaka)\n",
    "anonym_map = {}\n",
    "for nombre in names:\n",
    "    anonym_map[nombre]=fake.kana_name()\n",
    "\n",
    "anonym_map \"\"\""
   ]
  },
  {
   "cell_type": "code",
   "execution_count": null,
   "id": "d449d3e5",
   "metadata": {},
   "outputs": [],
   "source": [
    "\"\"\" with open(input_file, 'r', encoding='utf-8') as infile, \\\n",
    "         open(output_file, 'w', encoding='utf-8') as outfile:\n",
    "        \n",
    "        for line in infile:\n",
    "            if (not re.search(r\":.*@[\\S]+\", line)) and re.search(r\"\\d{2}/\\d{2}/\\d{2}, \\d{2}:\\d{2} - (.*?):\", line): #para quitar las menciones \"@fulanito\" y las lineas sueltas (que son mas dificiles de verificar, en mi caso particular)\n",
    "                for real_name, anon_name in anonym_map.items():\n",
    "                    line = line.replace(real_name, anon_name)\n",
    "                outfile.write(line) \"\"\""
   ]
  },
  {
   "cell_type": "markdown",
   "id": "3d462347",
   "metadata": {},
   "source": [
    "# **2** Ingesta y limpieza de datos"
   ]
  },
  {
   "cell_type": "markdown",
   "id": "9fee82c4",
   "metadata": {},
   "source": [
    "# **3** Análisis exploratorio de datos"
   ]
  },
  {
   "cell_type": "markdown",
   "id": "3dcbd8f8",
   "metadata": {},
   "source": [
    "# **4** Otros análisis"
   ]
  }
 ],
 "metadata": {
  "kernelspec": {
   "display_name": "Python 3",
   "language": "python",
   "name": "python3"
  },
  "language_info": {
   "codemirror_mode": {
    "name": "ipython",
    "version": 3
   },
   "file_extension": ".py",
   "mimetype": "text/x-python",
   "name": "python",
   "nbconvert_exporter": "python",
   "pygments_lexer": "ipython3",
   "version": "3.13.7"
  }
 },
 "nbformat": 4,
 "nbformat_minor": 5
}
